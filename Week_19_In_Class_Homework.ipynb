{
 "cells": [
  {
   "cell_type": "markdown",
   "id": "e40f749c",
   "metadata": {},
   "source": [
    "### Week 19 In Class Homework"
   ]
  },
  {
   "cell_type": "markdown",
   "id": "863dc8d3",
   "metadata": {},
   "source": [
    "#### Take one of the supervised learning models you have built recently and apply at least three dimensionality reduction techniques to it (separately). Be sure to create a short summary of each technique you use. Indicate how each changed the model performance. Reference: https://machinelearningmastery.com/dimensionality-reduction-algorithms-with-python/"
   ]
  },
  {
   "cell_type": "markdown",
   "id": "8be1d473",
   "metadata": {},
   "source": [
    "I used the multiple logistic regression model on the diabetes data set from homework 14."
   ]
  },
  {
   "cell_type": "code",
   "execution_count": 1,
   "id": "5406dd9e",
   "metadata": {},
   "outputs": [],
   "source": [
    "import numpy as np\n",
    "import pandas as pd\n",
    "import matplotlib.pyplot as plt\n",
    "import seaborn as sns"
   ]
  },
  {
   "cell_type": "code",
   "execution_count": 2,
   "id": "797ee1dc",
   "metadata": {},
   "outputs": [
    {
     "data": {
      "text/html": [
       "<div>\n",
       "<style scoped>\n",
       "    .dataframe tbody tr th:only-of-type {\n",
       "        vertical-align: middle;\n",
       "    }\n",
       "\n",
       "    .dataframe tbody tr th {\n",
       "        vertical-align: top;\n",
       "    }\n",
       "\n",
       "    .dataframe thead th {\n",
       "        text-align: right;\n",
       "    }\n",
       "</style>\n",
       "<table border=\"1\" class=\"dataframe\">\n",
       "  <thead>\n",
       "    <tr style=\"text-align: right;\">\n",
       "      <th></th>\n",
       "      <th>Pregnancies</th>\n",
       "      <th>Glucose</th>\n",
       "      <th>BloodPressure</th>\n",
       "      <th>SkinThickness</th>\n",
       "      <th>Insulin</th>\n",
       "      <th>BMI</th>\n",
       "      <th>DiabetesPedigreeFunction</th>\n",
       "      <th>Age</th>\n",
       "      <th>Outcome</th>\n",
       "    </tr>\n",
       "  </thead>\n",
       "  <tbody>\n",
       "    <tr>\n",
       "      <th>0</th>\n",
       "      <td>6</td>\n",
       "      <td>148</td>\n",
       "      <td>72</td>\n",
       "      <td>35</td>\n",
       "      <td>0</td>\n",
       "      <td>33.6</td>\n",
       "      <td>0.627</td>\n",
       "      <td>50</td>\n",
       "      <td>1</td>\n",
       "    </tr>\n",
       "    <tr>\n",
       "      <th>1</th>\n",
       "      <td>1</td>\n",
       "      <td>85</td>\n",
       "      <td>66</td>\n",
       "      <td>29</td>\n",
       "      <td>0</td>\n",
       "      <td>26.6</td>\n",
       "      <td>0.351</td>\n",
       "      <td>31</td>\n",
       "      <td>0</td>\n",
       "    </tr>\n",
       "    <tr>\n",
       "      <th>2</th>\n",
       "      <td>8</td>\n",
       "      <td>183</td>\n",
       "      <td>64</td>\n",
       "      <td>0</td>\n",
       "      <td>0</td>\n",
       "      <td>23.3</td>\n",
       "      <td>0.672</td>\n",
       "      <td>32</td>\n",
       "      <td>1</td>\n",
       "    </tr>\n",
       "    <tr>\n",
       "      <th>3</th>\n",
       "      <td>1</td>\n",
       "      <td>89</td>\n",
       "      <td>66</td>\n",
       "      <td>23</td>\n",
       "      <td>94</td>\n",
       "      <td>28.1</td>\n",
       "      <td>0.167</td>\n",
       "      <td>21</td>\n",
       "      <td>0</td>\n",
       "    </tr>\n",
       "    <tr>\n",
       "      <th>4</th>\n",
       "      <td>0</td>\n",
       "      <td>137</td>\n",
       "      <td>40</td>\n",
       "      <td>35</td>\n",
       "      <td>168</td>\n",
       "      <td>43.1</td>\n",
       "      <td>2.288</td>\n",
       "      <td>33</td>\n",
       "      <td>1</td>\n",
       "    </tr>\n",
       "  </tbody>\n",
       "</table>\n",
       "</div>"
      ],
      "text/plain": [
       "   Pregnancies  Glucose  BloodPressure  SkinThickness  Insulin   BMI  \\\n",
       "0            6      148             72             35        0  33.6   \n",
       "1            1       85             66             29        0  26.6   \n",
       "2            8      183             64              0        0  23.3   \n",
       "3            1       89             66             23       94  28.1   \n",
       "4            0      137             40             35      168  43.1   \n",
       "\n",
       "   DiabetesPedigreeFunction  Age  Outcome  \n",
       "0                     0.627   50        1  \n",
       "1                     0.351   31        0  \n",
       "2                     0.672   32        1  \n",
       "3                     0.167   21        0  \n",
       "4                     2.288   33        1  "
      ]
     },
     "execution_count": 2,
     "metadata": {},
     "output_type": "execute_result"
    }
   ],
   "source": [
    "#creating the dataframe\n",
    "\n",
    "diabetes_df = pd.read_csv(\"../week_13/diabetes.csv\")\n",
    "diabetes_df.head()"
   ]
  },
  {
   "cell_type": "code",
   "execution_count": null,
   "id": "d8363967",
   "metadata": {},
   "outputs": [],
   "source": [
    "diabetes_df.shape"
   ]
  },
  {
   "cell_type": "code",
   "execution_count": null,
   "id": "e75169c1",
   "metadata": {},
   "outputs": [],
   "source": [
    "diabetes_df.describe()"
   ]
  },
  {
   "cell_type": "code",
   "execution_count": 5,
   "id": "ede28067",
   "metadata": {},
   "outputs": [],
   "source": [
    "from sklearn.linear_model import LogisticRegression\n",
    "from sklearn.model_selection import train_test_split\n",
    "from sklearn.preprocessing import StandardScaler\n",
    "from sklearn.metrics import accuracy_score, classification_report,confusion_matrix,plot_confusion_matrix"
   ]
  },
  {
   "cell_type": "code",
   "execution_count": 6,
   "id": "2ea95b6f",
   "metadata": {},
   "outputs": [],
   "source": [
    "# Defining the feature matrix and the target.\n",
    "\n",
    "X = diabetes_df.drop('Outcome', axis=1)\n",
    "y = diabetes_df['Outcome']"
   ]
  },
  {
   "cell_type": "code",
   "execution_count": 7,
   "id": "43eb1169",
   "metadata": {},
   "outputs": [],
   "source": [
    "# Split data into training and testing sets\n",
    "\n",
    "X_train, X_test, y_train, y_test = train_test_split(X, y, test_size = 0.25, random_state = 14, stratify = y)\n"
   ]
  },
  {
   "cell_type": "code",
   "execution_count": 8,
   "id": "ba3dd43c",
   "metadata": {
    "scrolled": false
   },
   "outputs": [],
   "source": [
    "# Standardizing\n",
    "\n",
    "from sklearn.preprocessing import StandardScaler\n",
    "\n",
    "scale = StandardScaler()\n",
    "\n",
    "X_train = scale.fit_transform(X_train)\n",
    "X_test = scale.fit_transform(X_test)"
   ]
  },
  {
   "cell_type": "code",
   "execution_count": 9,
   "id": "f60d90f5",
   "metadata": {},
   "outputs": [],
   "source": [
    "#Train the model on features training matrix\n",
    "\n",
    "logit = LogisticRegression(random_state = 0).fit(X_train, y_train)\n",
    "y_pred = logit.predict(X_test)"
   ]
  },
  {
   "cell_type": "code",
   "execution_count": 10,
   "id": "6ab686ed",
   "metadata": {},
   "outputs": [],
   "source": [
    "#Simplest logistic regression approach\n",
    "#clf = LogisticRegression(random_state=0).fit(X_train, y_train)\n",
    "#sample_pred=[[6,148,72,35,0,33.6,0.627,50]]\n",
    "#y_predicted = clf.predict(X_test)"
   ]
  },
  {
   "cell_type": "code",
   "execution_count": 11,
   "id": "f19c6ad8",
   "metadata": {},
   "outputs": [
    {
     "data": {
      "text/plain": [
       "0.7552083333333334"
      ]
     },
     "execution_count": 11,
     "metadata": {},
     "output_type": "execute_result"
    }
   ],
   "source": [
    "logit.score(X_test,y_test)"
   ]
  },
  {
   "cell_type": "code",
   "execution_count": 12,
   "id": "730e24b4",
   "metadata": {},
   "outputs": [
    {
     "data": {
      "text/plain": [
       "0.7777777777777778"
      ]
     },
     "execution_count": 12,
     "metadata": {},
     "output_type": "execute_result"
    }
   ],
   "source": [
    "logit.score(X_train, y_train)"
   ]
  },
  {
   "cell_type": "markdown",
   "id": "e150d536",
   "metadata": {},
   "source": [
    "Additional performance metrics are summarized with the classification report:"
   ]
  },
  {
   "cell_type": "code",
   "execution_count": 14,
   "id": "e98b01db",
   "metadata": {
    "scrolled": false
   },
   "outputs": [
    {
     "name": "stdout",
     "output_type": "stream",
     "text": [
      "              precision    recall  f1-score   support\n",
      "\n",
      "           0       0.78      0.87      0.82       125\n",
      "           1       0.69      0.54      0.61        67\n",
      "\n",
      "    accuracy                           0.76       192\n",
      "   macro avg       0.74      0.70      0.71       192\n",
      "weighted avg       0.75      0.76      0.75       192\n",
      "\n"
     ]
    }
   ],
   "source": [
    "print(classification_report(y_test, y_pred))"
   ]
  },
  {
   "cell_type": "markdown",
   "id": "17c9942d",
   "metadata": {},
   "source": [
    "### Dimensionality Reduction"
   ]
  },
  {
   "cell_type": "markdown",
   "id": "8d5b2391",
   "metadata": {},
   "source": [
    "The goal of dimensionality reduction is to optimize model performance. This goal is achieved by simplifying the model. By reducing the number of explanatory variables to the most informative set,overfitting can (hopefully) be sufficiently minimized.\n",
    "\n",
    "Different techniques perform the same fundamental task of  \"engineering\" a new set of features from the original feature matrix. \n",
    "\n",
    "If you apply a  is important to apply a dimensionality reduction technique to ALL data sets (training, testing, validating, and novel) that interact with a specific model. \n",
    "\n",
    "I followed the outline in the provided reference. I applied a projection methods (PCA) and one technique rooted in manifolds (LLE) (basically helps work with non-linear behavior in the data). I haven't thought about manifolds in a very long time and didn't have time to read up on them. I also didn't have time to do a third model. \n",
    "\n",
    "I used Brownlee's evaluation scheme on my original model for a baseline set of metrics."
   ]
  },
  {
   "cell_type": "code",
   "execution_count": 15,
   "id": "3ccaf245",
   "metadata": {},
   "outputs": [],
   "source": [
    "#Used for stratified K-fold cross-validation.\n",
    "from sklearn.model_selection import cross_val_score\n",
    "from sklearn.model_selection import RepeatedStratifiedKFold\n",
    "\n",
    "#Basic statistics reported accross all folds.\n",
    "from numpy import mean\n",
    "from numpy import std\n"
   ]
  },
  {
   "cell_type": "code",
   "execution_count": 16,
   "id": "c59f6a22",
   "metadata": {},
   "outputs": [
    {
     "name": "stdout",
     "output_type": "stream",
     "text": [
      "Accuracy: 0.773 (0.041)\n"
     ]
    }
   ],
   "source": [
    "#model evaluation\n",
    "cv = RepeatedStratifiedKFold(n_splits=10, n_repeats=3, random_state=1)\n",
    "n_scores = cross_val_score(logit, X, y, scoring='accuracy', cv=cv, n_jobs=-1)\n",
    "# print metrics\n",
    "print('Accuracy: %.3f (%.3f)' % (mean(n_scores), std(n_scores)))"
   ]
  },
  {
   "cell_type": "markdown",
   "id": "d16b5acc",
   "metadata": {},
   "source": [
    "The classification accuracy given here is about 77%, close to what was generatied in the report.\n",
    "\n",
    "I think I may have done something wrong in the implentation with my model but I didn't have time to fix it."
   ]
  },
  {
   "cell_type": "markdown",
   "id": "b11176db",
   "metadata": {},
   "source": [
    "#### Dimensionality reduction algorithm: PCA"
   ]
  },
  {
   "cell_type": "markdown",
   "id": "aa3fb336",
   "metadata": {},
   "source": [
    "I started with the classic, Principle Component Analysis (PCA). In a nutshell,  PCA performes linear combinations of features in the training matrix to yield a smaller, orthogonal (and thus uncorrelated) set of features that capture most of the variance in the dataset. PCA is great for dense matrices (few zeros).\n",
    "\n",
    "Standardization is a necessary first step prior to application of PCA. It has already been done with ths data set."
   ]
  },
  {
   "cell_type": "code",
   "execution_count": 26,
   "id": "9edae44c",
   "metadata": {},
   "outputs": [],
   "source": [
    "# I used Brownlee's method of defining a pipeline to combine\n",
    "#the model and the PCA transform into a single unit.\n",
    "#Makes evaluation easier.\n",
    "\n",
    "from sklearn.pipeline import Pipeline\n",
    "from sklearn.decomposition import PCA\n",
    "\n",
    "steps_pca = [('pca', PCA(n_components=10)), ('m', LogisticRegression())]\n",
    "model_pca = Pipeline(steps=steps)\n"
   ]
  },
  {
   "cell_type": "code",
   "execution_count": 27,
   "id": "5ad9fffa",
   "metadata": {},
   "outputs": [],
   "source": [
    "#model evaluation\n",
    "cv_PCA = RepeatedStratifiedKFold(n_splits=10, n_repeats=3, random_state=1)\n",
    "n_scores_PCA = cross_val_score(model_pca, X, y, scoring='accuracy', cv=cv, n_jobs=-1)"
   ]
  },
  {
   "cell_type": "code",
   "execution_count": 28,
   "id": "7b32ce00",
   "metadata": {},
   "outputs": [
    {
     "name": "stdout",
     "output_type": "stream",
     "text": [
      "Accuracy (PCA): 0.773 (0.041)\n"
     ]
    }
   ],
   "source": [
    "# print metrics\n",
    "print('Accuracy (PCA): %.3f (%.3f)' % (mean(n_scores), std(n_scores)))"
   ]
  },
  {
   "cell_type": "markdown",
   "id": "2adabdbf",
   "metadata": {},
   "source": [
    "Hm, the results are identical to the original results. This arouses suspicion. However, Brownlee's results were, too, so it may be the case that applying this technique did not improve model performance. "
   ]
  },
  {
   "cell_type": "markdown",
   "id": "398c0691",
   "metadata": {},
   "source": [
    "#### Dimensionality reduction algorithm: LLE"
   ]
  },
  {
   "cell_type": "code",
   "execution_count": 29,
   "id": "a7dd3a68",
   "metadata": {},
   "outputs": [
    {
     "name": "stdout",
     "output_type": "stream",
     "text": [
      "Accuracy: 0.773 (0.041)\n"
     ]
    }
   ],
   "source": [
    "from sklearn.manifold import LocallyLinearEmbedding\n",
    "\n",
    "# define the pipeline\n",
    "steps_lle = [('lle', LocallyLinearEmbedding(n_components=10)), ('m', LogisticRegression())]\n",
    "model_lle = Pipeline(steps=steps)\n",
    "\n",
    "# evaluate model\n",
    "cv_lle = RepeatedStratifiedKFold(n_splits=10, n_repeats=3, random_state=1)\n",
    "n_scores_lle = cross_val_score(model_lle, X, y, scoring='accuracy', cv=cv, n_jobs=-1)\n",
    "# report performance\n",
    "print('Accuracy: %.3f (%.3f)' % (mean(n_scores), std(n_scores)))"
   ]
  },
  {
   "cell_type": "markdown",
   "id": "794807d0",
   "metadata": {},
   "source": [
    "Okay, clearly I have done something wrong, but I don't have time to figure it out. This was the best I could do. "
   ]
  },
  {
   "cell_type": "markdown",
   "id": "80a155d8",
   "metadata": {},
   "source": [
    "#### 2) Write a function that will indicate if an inputted IPv4 address is accurate or not. IP addresses are valid if they have 4 values between 0 and 255 (inclusive), punctuated by periods.\n",
    "\n",
    "#### Input 1:  2.33.245.5\n",
    "#### Output 1:  True\n",
    "\n",
    "#### Input 2:  12.345.67.89\n",
    "#### Output 2:  False"
   ]
  },
  {
   "cell_type": "markdown",
   "id": "375123f8",
   "metadata": {},
   "source": [
    "A valid IP address, as defined in this problem, has two fundamental features: exactly three periods; and values on either side of each period are between 0 and 255, inclusive. Here I consider it a period-delimited string. Input must be submitted in quotes.\n",
    "\n",
    "One approach to validating a possible IP address in two steps:\n",
    "\n",
    "1) Check to see if the string has exactly three periods. If not, return False. \n",
    "\n",
    "2) If true, check each \"number\" to see if it falls within the allowable range. If not, return False, else return True.\n"
   ]
  },
  {
   "cell_type": "code",
   "execution_count": 20,
   "id": "78de8713",
   "metadata": {},
   "outputs": [],
   "source": [
    "def IPvalid(address):\n",
    "    \n",
    "    #exactly three periods?\n",
    "    \n",
    "    if address.count('.') != 3:\n",
    "        \n",
    "        return False\n",
    "    \n",
    "    # if true, chunk the address into sub strings of numeric \n",
    "    # characters, according to th delimiter, and store\n",
    "    # in a list\n",
    "    \n",
    "    nums = list(map(str, address.split('.')))\n",
    "    \n",
    "    # check if each 'number' is not out of bounds\n",
    "    \n",
    "    for n in nums:\n",
    "        \n",
    "            # evaluating the integer version of list elements\n",
    "\n",
    "            if int(n) < 0 or int(n) > 255:\n",
    "                return False\n",
    "       \n",
    "    return True"
   ]
  },
  {
   "cell_type": "code",
   "execution_count": 21,
   "id": "585ea8fb",
   "metadata": {},
   "outputs": [
    {
     "data": {
      "text/plain": [
       "True"
      ]
     },
     "execution_count": 21,
     "metadata": {},
     "output_type": "execute_result"
    }
   ],
   "source": [
    "# Testing cases\n",
    "\n",
    "#Input 1:   \n",
    "IPvalid('2.33.245.5')\n"
   ]
  },
  {
   "cell_type": "code",
   "execution_count": 22,
   "id": "b8671459",
   "metadata": {},
   "outputs": [
    {
     "data": {
      "text/plain": [
       "False"
      ]
     },
     "execution_count": 22,
     "metadata": {},
     "output_type": "execute_result"
    }
   ],
   "source": [
    "#Input 2:\n",
    "IPvalid('12.345.67.89')"
   ]
  },
  {
   "cell_type": "code",
   "execution_count": 23,
   "id": "9e76f91e",
   "metadata": {},
   "outputs": [
    {
     "data": {
      "text/plain": [
       "False"
      ]
     },
     "execution_count": 23,
     "metadata": {},
     "output_type": "execute_result"
    }
   ],
   "source": [
    "#Input 3:\n",
    "IPvalid('2.33.2.45.5')"
   ]
  },
  {
   "cell_type": "code",
   "execution_count": 24,
   "id": "42fcfd09",
   "metadata": {},
   "outputs": [
    {
     "ename": "ValueError",
     "evalue": "invalid literal for int() with base 10: ''",
     "output_type": "error",
     "traceback": [
      "\u001b[0;31m---------------------------------------------------------------------------\u001b[0m",
      "\u001b[0;31mValueError\u001b[0m                                Traceback (most recent call last)",
      "\u001b[0;32m<ipython-input-24-259d16e15794>\u001b[0m in \u001b[0;36m<module>\u001b[0;34m\u001b[0m\n\u001b[1;32m      5\u001b[0m \u001b[0;31m# this one (e.g. a typo) but I had no success.\u001b[0m\u001b[0;34m\u001b[0m\u001b[0;34m\u001b[0m\u001b[0;34m\u001b[0m\u001b[0m\n\u001b[1;32m      6\u001b[0m \u001b[0;34m\u001b[0m\u001b[0m\n\u001b[0;32m----> 7\u001b[0;31m \u001b[0mIPvalid\u001b[0m\u001b[0;34m(\u001b[0m\u001b[0;34m'..30.40'\u001b[0m\u001b[0;34m)\u001b[0m\u001b[0;34m\u001b[0m\u001b[0;34m\u001b[0m\u001b[0m\n\u001b[0m",
      "\u001b[0;32m<ipython-input-20-7d2cf321e2b9>\u001b[0m in \u001b[0;36mIPvalid\u001b[0;34m(address)\u001b[0m\n\u001b[1;32m     19\u001b[0m             \u001b[0;31m# evaluating the integer version of list elements\u001b[0m\u001b[0;34m\u001b[0m\u001b[0;34m\u001b[0m\u001b[0;34m\u001b[0m\u001b[0m\n\u001b[1;32m     20\u001b[0m \u001b[0;34m\u001b[0m\u001b[0m\n\u001b[0;32m---> 21\u001b[0;31m             \u001b[0;32mif\u001b[0m \u001b[0mint\u001b[0m\u001b[0;34m(\u001b[0m\u001b[0mn\u001b[0m\u001b[0;34m)\u001b[0m \u001b[0;34m<\u001b[0m \u001b[0;36m0\u001b[0m \u001b[0;32mor\u001b[0m \u001b[0mint\u001b[0m\u001b[0;34m(\u001b[0m\u001b[0mn\u001b[0m\u001b[0;34m)\u001b[0m \u001b[0;34m>\u001b[0m \u001b[0;36m255\u001b[0m\u001b[0;34m:\u001b[0m\u001b[0;34m\u001b[0m\u001b[0;34m\u001b[0m\u001b[0m\n\u001b[0m\u001b[1;32m     22\u001b[0m                 \u001b[0;32mreturn\u001b[0m \u001b[0;32mFalse\u001b[0m\u001b[0;34m\u001b[0m\u001b[0;34m\u001b[0m\u001b[0m\n\u001b[1;32m     23\u001b[0m \u001b[0;34m\u001b[0m\u001b[0m\n",
      "\u001b[0;31mValueError\u001b[0m: invalid literal for int() with base 10: ''"
     ]
    }
   ],
   "source": [
    "#Input 4:\n",
    "\n",
    "# NOTE: I made multiple attempts to include a try/except \n",
    "#in the function in order to handle special cases like \n",
    "# this one (e.g. a typo) but I had no success.\n",
    "\n",
    "IPvalid('..30.40')"
   ]
  }
 ],
 "metadata": {
  "kernelspec": {
   "display_name": "Python 3",
   "language": "python",
   "name": "python3"
  },
  "language_info": {
   "codemirror_mode": {
    "name": "ipython",
    "version": 3
   },
   "file_extension": ".py",
   "mimetype": "text/x-python",
   "name": "python",
   "nbconvert_exporter": "python",
   "pygments_lexer": "ipython3",
   "version": "3.8.5"
  }
 },
 "nbformat": 4,
 "nbformat_minor": 5
}
